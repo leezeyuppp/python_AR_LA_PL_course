{
 "cells": [
  {
   "cell_type": "code",
   "execution_count": 7,
   "id": "51c6d631-1d37-435d-85df-fbfa9e956c89",
   "metadata": {},
   "outputs": [
    {
     "name": "stdout",
     "output_type": "stream",
     "text": [
      "The list length=5\n",
      "Maximum value=27\n",
      "Minimum value=7\n"
     ]
    }
   ],
   "source": [
    "lst_n=list(range(7,31,5))\n",
    "print(\"The list length={}\".format(len(lst_n)))\n",
    "print(\"Maximum value={}\".format(max(lst_n)))\n",
    "print(\"Minimum value={}\".format(min(lst_n)))\n"
   ]
  },
  {
   "cell_type": "code",
   "execution_count": 9,
   "id": "4daf677e-05c3-412a-9b72-7c862c126b5c",
   "metadata": {},
   "outputs": [
    {
     "name": "stdout",
     "output_type": "stream",
     "text": [
      "['s', 't', 'u', 'v', 'w', 'x', 'y', 'z', '{', '|']\n",
      "__________________________________________________\n",
      "[4:6]->['w', 'x']\n",
      "[-6:-1]->['w', 'x', 'y', 'z', '{']\n",
      "[-9:]->['t', 'u', 'v', 'w', 'x', 'y', 'z', '{', '|']\n",
      "[:5]->['s', 't', 'u', 'v', 'w']\n",
      "[:]->['s', 't', 'u', 'v', 'w', 'x', 'y', 'z', '{', '|']\n"
     ]
    }
   ],
   "source": [
    "lst_s=list(map(chr,range(115,125)))\n",
    "print(lst_s)\n",
    "print(\"_\"*50)\n",
    "print(\"[4:6]->{}\".format(lst_s[4:6]))\n",
    "print(\"[-6:-1]->{}\".format(lst_s[-6:-1]))\n",
    "print(\"[-9:]->{}\".format(lst_s[-9:]))\n",
    "print(\"[:5]->{}\".format(lst_s[:5]))\n",
    "print(\"[:]->{}\".format(lst_s[:]))\n"
   ]
  },
  {
   "cell_type": "code",
   "execution_count": 10,
   "id": "30e75922-246e-4dd4-bb75-131d07c8d4a6",
   "metadata": {},
   "outputs": [
    {
     "name": "stdout",
     "output_type": "stream",
     "text": [
      "['s', 't', 'u', 'v', 'w', 'x', 'y', 'z', '{', '|']\n",
      "__________________________________________________\n",
      "[2:9:3]->['u', 'x', '{']\n",
      "[::4]->['s', 'w', '{']\n",
      "[7:3:-3]->['z', 'w']\n",
      "[15:2:-2]->['|', 'z', 'x', 'v']\n",
      "[6::-2]->['y', 'w', 'u', 's']\n",
      "[:5:-3]->['|', 'y']\n"
     ]
    }
   ],
   "source": [
    "print(lst_s)\n",
    "print(\"_\"*50)\n",
    "print(\"[2:9:3]->{}\".format(lst_s[2:9:3]))\n",
    "print(\"[::4]->{}\".format(lst_s[::4]))\n",
    "print(\"[7:3:-3]->{}\".format(lst_s[7:3:-3]))\n",
    "print(\"[15:2:-2]->{}\".format(lst_s[15:2:-2]))\n",
    "print(\"[6::-2]->{}\".format(lst_s[6::-2]))\n",
    "print(\"[:5:-3]->{}\".format(lst_s[:5:-3]))\n"
   ]
  },
  {
   "cell_type": "code",
   "execution_count": 17,
   "id": "73d6164b-2758-4262-90d4-e6a7e0654b20",
   "metadata": {},
   "outputs": [
    {
     "name": "stdout",
     "output_type": "stream",
     "text": [
      "['s', 't', 'u', 'v', 'w', 'x', 'y', 109, '{', '|']\n",
      "__________________________________________________\n",
      "lst_s[7]=106->['s', 't', 'u', 'v', 'w', 'x', 'y', 109, '{', '|']\n",
      "lst_s+[None]*6->['s', 't', 'u', 'v', 'w', 'x', 'y', 109, '{', '|', None, None, None, None, None, None]\n",
      "lst_none[13]=2018->['s', 't', 'u', 'v', 'w', 'x', 'y', 109, '{', '|', None, None, None, 2018, None, None]\n",
      "lst_none[-5:-3]=list(range(100,108,3))->['s', 't', 'u', 'v', 'w', 'x', 'y', 109, '{', '|', None, 100, 103, 106, 2018, None, None]\n",
      "lst_none[1:1]=[0,0,0,12]->['s', 0, 0, 0, 12, 't', 'u', 'v', 'w', 'x', 'y', 109, '{', '|', None, 100, 103, 106, 2018, None, None]\n",
      "del lst_none[-3:]->['s', 0, 0, 0, 12, 't', 'u', 'v', 'w', 'x', 'y', 109, '{', '|', None, 100, 103, 106]\n"
     ]
    }
   ],
   "source": [
    "print(lst_s)\n",
    "print(\"_\"*50)\n",
    "lst_s[7]=109 \n",
    "print(\"lst_s[7]=106->{}\".format(lst_s))\n",
    "lst_none=lst_s+[None]*6\n",
    "print(\"lst_s+[None]*6->{}\".format(lst_none))\n",
    "lst_none[13]=2018\n",
    "print(\"lst_none[13]=2018->{}\".format(lst_none))\n",
    "lst_none[-5:-3]=list(range(100,108,3)) \n",
    "print(\"lst_none[-5:-3]=list(range(100,108,3))->{}\".format(lst_none))\n",
    "lst_none[1:1]=[0,0,0,12]\n",
    "print(\"lst_none[1:1]=[0,0,0,12]->{}\".format(lst_none))\n",
    "del lst_none[-3:] \n",
    "print(\"del lst_none[-3:]->{}\".format(lst_none))\n"
   ]
  },
  {
   "cell_type": "code",
   "execution_count": 19,
   "id": "ad85cfbe-9dee-421c-bad1-86740069ae08",
   "metadata": {},
   "outputs": [
    {
     "name": "stdout",
     "output_type": "stream",
     "text": [
      "['e', 'f', 'g', 'h', 'i']\n",
      "__________________________________________________\n",
      "lst_s_2.append(100)->['e', 'f', 'g', 'h', 'i', 99]\n",
      "lst_s_2.append(list(range(50,70,6)))->['e', 'f', 'g', 'h', 'i', 99, [50, 56, 62, 68]]\n",
      "lst_s_2.extend(lst_spechars)->['e', 'f', 'g', 'h', 'i', 99, [50, 56, 62, 68], '*', ')', '*']\n",
      "lst_s_2.count('*')=2\n",
      "lst_s_2.index('e')=0\n",
      "lst_s_2.insert(2,[900,1100,1500])->['e', 'f', [900, 1100, 1500], 'g', 'h', 'i', 99, [50, 56, 62, 68], '*', ')', '*']\n",
      "lst_s_2.pop(7)_popup->[50, 56, 62, 68]\n",
      "lst_s_2.pop(7)_retention->['e', 'f', [900, 1100, 1500], 'g', 'h', 'i', 99, '*', ')', '*']\n",
      "lst_s_2.remove('*')_retention->['e', 'f', [900, 1100, 1500], 'g', 'h', 'i', 99, ')', '*']\n",
      "list_n_2.sort()->[2, 3, 5, 6, 45, 93]\n"
     ]
    }
   ],
   "source": [
    "lst_s_2=list(map(chr,range(101,106)))\n",
    "print(lst_s_2)\n",
    "print(\"_\"*50)\n",
    "lst_s_2.append(99)\n",
    "print(\"lst_s_2.append(100)->{}\".format(lst_s_2))\n",
    "lst_s_2.append(list(range(50,70,6)))\n",
    "print(\"lst_s_2.append(list(range(50,70,6)))->{}\".format(lst_s_2))\n",
    "lst_spechars=['*',')','*']\n",
    "lst_s_2.extend(lst_spechars)\n",
    "print(\"lst_s_2.extend(lst_spechars)->{}\".format(lst_s_2))\n",
    "print(\"lst_s_2.count('*')={}\".format(lst_s_2.count('*')))\n",
    "print(\"lst_s_2.index('e')={}\".format(lst_s_2.index('e')))\n",
    "lst_s_2.insert(2,[900,1100,1500])\n",
    "print(\"lst_s_2.insert(2,[900,1100,1500])->{}\".format(lst_s_2))\n",
    "print(\"lst_s_2.pop(7)_popup->{}\".format(lst_s_2.pop(7)))\n",
    "print(\"lst_s_2.pop(7)_retention->{}\".format(lst_s_2))\n",
    "lst_s_2.remove('*')\n",
    "print(\"lst_s_2.remove('*')_retention->{}\".format(lst_s_2))\n",
    "list_n_2=[2,45,6,93,5,3]\n",
    "list_n_2.sort()\n",
    "print(\"list_n_2.sort()->{}\".format(list_n_2))\n"
   ]
  },
  {
   "cell_type": "code",
   "execution_count": 20,
   "id": "4f131c93-b8d9-42ed-bc91-3a3a74ab9c73",
   "metadata": {},
   "outputs": [
    {
     "name": "stdout",
     "output_type": "stream",
     "text": [
      "tuple_1=2,4,6,->(2, 4, 6)\n",
      "4*(20*4,)->(80, 80, 80, 80)\n",
      "tuple((5,7,9))->(5, 7, 9)\n",
      "tuple([5,7,9])->(5, 7, 9)\n"
     ]
    }
   ],
   "source": [
    "tuple_1=2,4,6,\n",
    "print(\"tuple_1=2,4,6,->{}\".format(tuple_1))\n",
    "print(\"4*(20*4,)->{}\".format(4*(20*4,)))\n",
    "print(\"tuple((5,7,9))->{}\".format(tuple((5,7,9)))) \n",
    "print(\"tuple([5,7,9])->{}\".format(tuple([5,7,9]))) \n"
   ]
  },
  {
   "cell_type": "code",
   "execution_count": 21,
   "id": "0cfa5c85-caaf-4657-b865-65d794e8890e",
   "metadata": {},
   "outputs": [
    {
     "name": "stdout",
     "output_type": "stream",
     "text": [
      "items->[(0, [0, 1, 2, 3, 4]), (1, [[122, 94, 136]]), (2, 'python')]\n",
      "dic=dict(items)->{0: [0, 1, 2, 3, 4], 1: [[122, 94, 136]], 2: 'python'}\n",
      "dic[1]->[[122, 94, 136]]\n"
     ]
    }
   ],
   "source": [
    "import random\n",
    "items=[(0,[i for i in range(5)]),(1,[random.sample(list(range(90,180,1)),3)]),(2,'python')] \n",
    "print(\"items->{}\".format(items))\n",
    "dic=dict(items)\n",
    "print(\"dic=dict(items)->{}\".format(dic))\n",
    "print(\"dic[1]->{}\".format(dic[1]))\n"
   ]
  },
  {
   "cell_type": "code",
   "execution_count": 37,
   "id": "2a6f9dc0-ddaa-4bed-a97c-4bbcaf46777b",
   "metadata": {},
   "outputs": [
    {
     "name": "stdout",
     "output_type": "stream",
     "text": [
      "len(dic)->3\n",
      "dic[3]=(random.random(),random.uniform(200,300))->{0: [0, 1, 2, 3, 4], 2: 'python', 3: (0.3872687226083117, 204.2448633458769)}\n",
      "del dic[1]->{0: [0, 1, 2, 3, 4], 2: 'python', 3: (0.3872687226083117, 204.2448633458769)}\n",
      "3 in dic->True\n",
      "5 in dic->False\n",
      "dic.keys()->dict_keys([0, 2, 3])\n",
      "dic.values()->dict_values([[0, 1, 2, 3, 4], 'python', (0.3872687226083117, 204.2448633458769)])\n",
      "dic.items()->dict_items([(0, [0, 1, 2, 3, 4]), (2, 'python'), (3, (0.3872687226083117, 204.2448633458769))])\n",
      "__________________________________________________\n",
      "list(dic.keys())->[0, 2, 3]\n"
     ]
    }
   ],
   "source": [
    "print(\"len(dic)->{}\".format(len(dic)))\n",
    "dic[3]=(random.random(),random.uniform(200,300))\n",
    "print(\"dic[3]=(random.random(),random.uniform(200,300))->{}\".format(dic))\n",
    "print(\"del dic[1]->{}\".format(dic))\n",
    "print(\"3 in dic->{}\".format(3 in dic))\n",
    "print(\"5 in dic->{}\".format(5 in dic))\n",
    "print(\"dic.keys()->{}\".format(dic.keys())) \n",
    "print(\"dic.values()->{}\".format(dic.values()))\n",
    "print(\"dic.items()->{}\".format(dic.items()))\n",
    "print(\"_\"*50)\n",
    "print(\"list(dic.keys())->{}\".format(list(dic.keys())))\n"
   ]
  },
  {
   "cell_type": "code",
   "execution_count": 35,
   "id": "f54c965a-ebfe-4b35-a995-e46ef59d18e4",
   "metadata": {},
   "outputs": [
    {
     "name": "stdout",
     "output_type": "stream",
     "text": [
      "0 (0, [0, 1, 2, 3, 4])\n",
      "1 (2, 'python')\n",
      "2 (3, (0.3410138463926907, 234.76952762145507))\n"
     ]
    }
   ],
   "source": [
    "for k,v in enumerate(dic.items()): \n",
    "    print(k,v)"
   ]
  },
  {
   "cell_type": "code",
   "execution_count": 8,
   "id": "3c2945f8-4876-4532-acb6-bf22a4ed78fc",
   "metadata": {},
   "outputs": [
    {
     "name": "stdout",
     "output_type": "stream",
     "text": [
      "lst_A=[5, 9, 13, 17],lst_B=[90, 105, 120, 135]\n",
      "dic_2={0: [5, 9, 13, 17], 1: [90, 105, 120, 135]}\n",
      "__________________________________________________\n",
      "dic_assignment={0: [5, 9, 13, 17], 1: [90, 105, 120, 135]}\n",
      "dic_2.clear()->{}\n",
      "dic_assignment={}\n",
      "dic_2[5]=list(range(1,9,2))->{5: [1, 3, 5, 7]}\n",
      "dic_copy=dic_2.copy()->{5: [1, 3, 5, 7]}\n",
      "dic_2[8]=[4,7]->{5: [1, 3, 5, 7], 8: [4, 7]}\n",
      "dic_copy={5: [1, 3, 5, 7]}\n",
      "dic_copy[5].remove(5)->{5: [1, 3, 7]}\n",
      "dic_copy.setdefault(5,[77,88])->{5: [1, 3, 7]}\n",
      "dic_2.pop(5)->{8: [4, 7]}\n",
      "dic_update={7: [5, 8, 6, 3, 2], 8: [3, 2, 44, 55, 77]}\n",
      "dic_2.update(dic_update->{8: [3, 2, 44, 55, 77], 7: [5, 8, 6, 3, 2]}\n",
      "dic_2.get(9)->None\n",
      "dic_2.popitem()->{8: [3, 2, 44, 55, 77]}\n",
      "dic_3={}.fromkeys([0,1,2,3,4,'A'])->{0: None, 1: None, 2: None, 3: None, 4: None, 'A': None}\n"
     ]
    }
   ],
   "source": [
    "lst_A=list(range(5,20,4))\n",
    "lst_B=list(range(90,150,15))\n",
    "print(\"lst_A={},lst_B={}\".format(lst_A,lst_B))\n",
    "dic_2={0:lst_A,1:lst_B}\n",
    "print(\"dic_2={}\".format(dic_2))\n",
    "print(\"_\"*50)\n",
    "dic_assignment=dic_2\n",
    "print(\"dic_assignment={}\".format(dic_assignment))\n",
    "dic_2.clear()\n",
    "print(\"dic_2.clear()->{}\".format(dic_2))\n",
    "print(\"dic_assignment={}\".format(dic_assignment))\n",
    "dic_2[5]=list(range(1,9,2))\n",
    "print(\"dic_2[5]=list(range(1,9,2))->{}\".format(dic_2))\n",
    "dic_copy=dic_2.copy()\n",
    "print(\"dic_copy=dic_2.copy()->{}\".format(dic_copy))\n",
    "dic_2[8]=[4,7]\n",
    "print(\"dic_2[8]=[4,7]->{}\".format(dic_2))\n",
    "print(\"dic_copy={}\".format(dic_copy))\n",
    "dic_copy[5].remove(5)\n",
    "print(\"dic_copy[5].remove(5)->{}\".format(dic_copy))\n",
    "dic_copy.setdefault(5,[77,88])\n",
    "print(\"dic_copy.setdefault(5,[77,88])->{}\".format(dic_copy))\n",
    "dic_2.pop(5)\n",
    "print(\"dic_2.pop(5)->{}\".format(dic_2))\n",
    "dic_update={7:[5,8,6,3,2],8:[3,2,44,55,77]}\n",
    "print(\"dic_update={}\".format(dic_update))\n",
    "dic_2.update(dic_update)\n",
    "print(\"dic_2.update(dic_update->{}\".format(dic_2))\n",
    "print(\"dic_2.get(9)->{}\".format(dic_2.get(9)))\n",
    "dic_2.popitem() \n",
    "print(\"dic_2.popitem()->{}\".format(dic_2))\n",
    "\n",
    "dic_3={}.fromkeys([0,1,2,3,4,'A'])\n",
    "print(\"dic_3={}\"+\".fromkeys([0,1,2,3,4,'A'])->{}\".format(dic_3))\n"
   ]
  },
  {
   "cell_type": "code",
   "execution_count": 9,
   "id": "ff7275e7-5974-42b8-ae70-13d1ed51e12b",
   "metadata": {},
   "outputs": [
    {
     "name": "stdout",
     "output_type": "stream",
     "text": [
      "lst_s_3=list(\"Hello World!\")->['H', 'e', 'l', 'l', 'o', ' ', 'W', 'o', 'r', 'l', 'd', '!']\n",
      "\"Hellow\"+\" World!\"->Hellow Python!\n",
      "\"+\".join(str(123456))->1+2+3+4+5+6\n",
      "len(\"Hellow World!\")->14\n",
      "coordinates.split(\",\")->['120.132007', '30.300508', '9.7']\n",
      "eval(coordinates)->(120.132007, 30.300508, 9.7)\n",
      "\"Hello World!\".lower()->hello python!\n",
      "\"Hello World!\".upper()->HELLO PYTHON!\n",
      "\"Hello World!\"[6:]->Python!\n",
      "\"    Hello World!    \".strip()->Hello Python!\n",
      "\"Hello World!\".replace(\"World\",\"Grasshopper\")->Hello Grasshopper!\n",
      "hello_lst.sort()>[' ', '!', 'H', 'W', 'd', 'e', 'l', 'l', 'l', 'o', 'o', 'r']\n",
      "\"Hello World!\".find(\"Py\")->6\n"
     ]
    }
   ],
   "source": [
    "lst_s_3=list(\"Hello World!\")\n",
    "print(\"lst_s_3=list(\\\"Hello World!\\\")->{}\".format(lst_s_3)) #\"\\\" escape character\n",
    "print(\"\\\"Hellow\\\"+\\\" World!\\\"->{}\".format(\"Hellow\"+\" Python!\"))\n",
    "print(\"\\\"+\\\".join(str(123456))->{}\".format(\"+\".join(str(123456))))\n",
    "print(\"len(\\\"Hellow World!\\\")->{}\".format(len(\"Hellow Python!\")))\n",
    "coordinates=\"120.132007,30.300508,9.7\"\n",
    "print(\"coordinates.split(\\\",\\\")->{}\".format(coordinates.split(\",\")))\n",
    "print(\"eval(coordinates)->{}\".format(eval(coordinates))) #通常用eval()方法将字符串，转换为对应数值形式；\n",
    "print(\"\\\"Hello World!\\\".lower()->{}\".format(\"Hello Python!\".lower()))\n",
    "print(\"\\\"Hello World!\\\".upper()->{}\".format(\"Hello Python!\".upper()))\n",
    "print(\"\\\"Hello World!\\\"[6:]->{}\".format(\"Hello Python!\"[6:]))\n",
    "print(\"\\\"    Hello World!    \\\".strip()->{}\".format(\"    Hello Python!    \".strip()))\n",
    "print(\"\\\"Hello World!\\\".replace(\\\"World\\\",\\\"Grasshopper\\\")->{}\".format(\"Hello Python!\".replace(\"Python\",\"Grasshopper\")))\n",
    "hello_lst=list(\"Hello World!\")\n",
    "hello_lst.sort()\n",
    "print(\"hello_lst.sort()>{}\".format(hello_lst))\n",
    "print(\"\\\"Hello World!\\\".find(\\\"Py\\\")->{}\".format(\"Hello Python!\".find(\"Py\")))\n"
   ]
  },
  {
   "cell_type": "code",
   "execution_count": 10,
   "id": "1c0e38cb-6d33-4f77-b2e3-4794491eae81",
   "metadata": {},
   "outputs": [
    {
     "name": "stdout",
     "output_type": "stream",
     "text": [
      "new_str=format_str % values->Hello,Python and Grasshopper!\n",
      "new_str_2=format_str_2 % (pi,3.14)->Pi with three decimals:3.142,and enter a value with percent sign:3.14 %\n"
     ]
    }
   ],
   "source": [
    "format_str=\"Hello,%s and %s!\"\n",
    "values=(\"Python\",\"Grasshopper\")\n",
    "new_str=format_str % values\n",
    "print(\"new_str=format_str % values->{}\".format(new_str))\n",
    "\n",
    "format_str_2=\"Pi with three decimals:%.3f,and enter a value with percent sign:%.2f %%\" #如果字符串里包含实际的%，则通过%%即两个百分号进行转义\n",
    "\n",
    "from math import pi\n",
    "new_str_2=format_str_2 % (pi,3.14)\n",
    "print(\"new_str_2=format_str_2 % (pi,3.14)->{}\".format(new_str_2))\n"
   ]
  },
  {
   "cell_type": "code",
   "execution_count": 12,
   "id": "4da105c9-530a-4004-b5e4-fb6397168581",
   "metadata": {},
   "outputs": [
    {
     "name": "stdout",
     "output_type": "stream",
     "text": [
      "  3.141593,      3.14,3.14,Hello,Hello,54,34,3.141593\n"
     ]
    }
   ],
   "source": [
    "format_str_3=\"%10f,%10.2f,%.2f,%.5s,%.*s,%d,%x,%f\"\n",
    "new_str_3=format_str_3%(pi,pi,pi,\"Hello Python!\",5,\"Hello Python!\",54,52,pi)\n",
    "print(\"{}\".format(new_str_3))\n"
   ]
  },
  {
   "cell_type": "code",
   "execution_count": 13,
   "id": "f3a7a169-e339-4e4a-93de-c7a19fcb0a90",
   "metadata": {},
   "outputs": [
    {
     "name": "stdout",
     "output_type": "stream",
     "text": [
      "s_1=s_template_1.substitute(x=\"World\")->World,glorious,World!\n",
      "s_2=s_template_2.substitute(x=\"py\")->World is amazing!\n",
      "substitute_dict={'x': 'World', 'y': 'word'}\n",
      "s_3=s_template_3.substitute(substitute_dict)->World and word are both amazing!\n"
     ]
    }
   ],
   "source": [
    "from string import Template\n",
    "s_template_1=Template(\"$x,glorious,$x!\")\n",
    "s_1=s_template_1.substitute(x=\"World\")\n",
    "print(\"s_1=s_template_1.substitute(x=\\\"World\\\")->{}\".format(s_1))\n",
    "s_template_2=Template(\"${x}rld is amazing!\")\n",
    "s_2=s_template_2.substitute(x=\"Wo\")\n",
    "print(\"s_2=s_template_2.substitute(x=\\\"py\\\")->{}\".format(s_2))\n",
    "s_template_3=Template(\"$x and $y are both amazing!\")\n",
    "substitute_dict=dict([('x','World'),('y','word')])\n",
    "print(\"substitute_dict={}\".format(substitute_dict))\n",
    "s_3=s_template_3.substitute(substitute_dict)\n",
    "print(\"s_3=s_template_3.substitute(substitute_dict)->{}\".format(s_3))\n"
   ]
  },
  {
   "cell_type": "code",
   "execution_count": 14,
   "id": "808609d2-a9f0-4c91-9d3b-e15a048aef18",
   "metadata": {},
   "outputs": [
    {
     "name": "stdout",
     "output_type": "stream",
     "text": [
      "re.findall(pattern_1,text)->['World']\n",
      "re.findall(pattern_2,text)->['World']\n"
     ]
    }
   ],
   "source": [
    "import re\n",
    "pattern_1='World'\n",
    "text=\"Hello World!\"\n",
    "print(\"re.findall(pattern_1,text)->{}\".format(re.findall(pattern_1,text)))\n",
    "pattern_2='World'\n",
    "print(\"re.findall(pattern_2,text)->{}\".format(re.findall(pattern_2,text)))\n"
   ]
  },
  {
   "cell_type": "code",
   "execution_count": 15,
   "id": "a8768983-1a06-4499-9d20-178e55584303",
   "metadata": {},
   "outputs": [
    {
     "name": "stdout",
     "output_type": "stream",
     "text": [
      "re.findall('.ython','Hello World!')->['Python']\n",
      "re.findall('.ython','Hello gorld!')->['gython']\n",
      "re.findall('.ython','Hello gWorld!')->['Python']\n",
      "re.findall('.ython','Hello World!')->[]\n"
     ]
    }
   ],
   "source": [
    "print(\"re.findall('.ython','Hello World!')->{}\".format(re.findall('.ython','Hello Python!')))\n",
    "print(\"re.findall('.ython','Hello gorld!')->{}\".format(re.findall('.ython','Hello gython!')))\n",
    "print(\"re.findall('.ython','Hello gWorld!')->{}\".format(re.findall('.ython','Hello gPython!')))\n",
    "print(\"re.findall('.ython','Hello World!')->{}\".format(re.findall('.ython','Hello Pthon!')))\n"
   ]
  },
  {
   "cell_type": "code",
   "execution_count": 17,
   "id": "9793e36d-12e4-438a-b82c-d958d437a5c7",
   "metadata": {},
   "outputs": [
    {
     "name": "stdout",
     "output_type": "stream",
     "text": [
      "re.findall(r'w?python\\.cn,w+\\.cadesign\\.cn','cadesign.cn,www.cadesign.cn')->['cadesign.cn,www.cadesign.cn']\n",
      "re.findall(r'w{2}\\.python\\.cn','www.cadesign.cn')->['ww.cadesign.cn']\n",
      "re.findall(r'w{1,3}\\.python\\.cn','www.cadesign.cn')->['www.cadesign.cn']\n"
     ]
    }
   ],
   "source": [
    "print(\"re.findall(r'w?python\\.cn,w+\\.cadesign\\.cn','cadesign.cn,www.cadesign.cn')->{}\".format(re.findall(r'w?cadesign\\.cn,w+\\.cadesign\\.cn','cadesign.cn,www.cadesign.cn')))\n",
    "print(\"re.findall(r'w{2}\"+\"\\.python\\.cn','www.cadesign.cn')->{}\".format(re.findall(r'w{2}\\.cadesign\\.cn','www.cadesign.cn')))\n",
    "print(\"re.findall(r'w{1,3}\"+\"\\.python\\.cn','www.cadesign.cn')->{}\".format(re.findall(r'w{1,3}\\.cadesign\\.cn','www.cadesign.cn')))\n"
   ]
  },
  {
   "cell_type": "code",
   "execution_count": 18,
   "id": "bc29101b-4dfe-479a-ae71-0c406db0a587",
   "metadata": {},
   "outputs": [
    {
     "name": "stdout",
     "output_type": "stream",
     "text": [
      "re.findall('[Py]*thon!','Hello World!')->['Python!']\n",
      "re.findall('[Py]*thon!','Hello Wrld!')->['Pthon!']\n",
      "re.findall('[Py]*thon!','Hello ython!')->['ython!']\n",
      "re.findall('[Py]*thon!','Hello ython!')->['thon!']\n"
     ]
    }
   ],
   "source": [
    "print(\"re.findall('[Py]*thon!','Hello World!')->{}\".format(re.findall('[Py]*thon!','Hello Python!')))\n",
    "print(\"re.findall('[Py]*thon!','Hello Wrld!')->{}\".format(re.findall('[Py]*thon!','Hello Pthon!')))\n",
    "print(\"re.findall('[Py]*thon!','Hello ython!')->{}\".format(re.findall('[Py]*thon!','Hello ython!')))\n",
    "print(\"re.findall('[Py]*thon!','Hello ython!')->{}\".format(re.findall('[Py]*thon!','Hello thon!')))\n"
   ]
  },
  {
   "cell_type": "code",
   "execution_count": 21,
   "id": "de338483-1d56-4b3e-acf6-7f001d483a8a",
   "metadata": {},
   "outputs": [
    {
     "name": "stdout",
     "output_type": "stream",
     "text": [
      "re.findall('World|word','World')->['python']\n",
      "re.findall('World|word','word')->['grasshopper']\n",
      "re.findall('World|word','word and World')->['grasshopper', 'python']\n"
     ]
    }
   ],
   "source": [
    "print(\"re.findall('World|word','World')->{}\".format(re.findall('python|grasshopper','python')))\n",
    "print(\"re.findall('World|word','word')->{}\".format(re.findall('python|grasshopper','grasshopper')))\n",
    "print(\"re.findall('World|word','word and World')->{}\".format(re.findall('python|grasshopper','grasshopper and python')))\n"
   ]
  },
  {
   "cell_type": "code",
   "execution_count": 25,
   "id": "d184a3ea-1633-4c28-b071-3376b40c81cc",
   "metadata": {
    "collapsed": true,
    "jupyter": {
     "outputs_hidden": true
    },
    "tags": []
   },
   "outputs": [
    {
     "name": "stdout",
     "output_type": "stream",
     "text": [
      "'World'.find('World')->0\n",
      "'World'.find('thon')->2\n",
      "'World'.find('a')->-1\n",
      "'W' in 'World'->True\n"
     ]
    }
   ],
   "source": [
    "print(\"\\'World\\'.find(\\'World\\')->{}\".format('World'.find('World')))\n",
    "print(\"\\'World\\'.find(\\'thon\\')->{}\".format('World'.find('rld')))\n",
    "print(\"\\'World\\'.find(\\'a\\')->{}\".format('World'.find('a')))\n",
    "print(\"\\'W\\' in \\'World\\'->{}\".format('W' in 'World'))\n"
   ]
  },
  {
   "cell_type": "code",
   "execution_count": 27,
   "id": "7a7b53f4-db16-4c6c-9162-da6d3e9ad71a",
   "metadata": {},
   "outputs": [
    {
     "name": "stdout",
     "output_type": "stream",
     "text": [
      "'Hello,,,,,,World!'.split(',')->['Hello', '', '', '', '', '', 'World!']\n",
      "'Hello World!'.replace('World','Grasshopper')->Hello Xauat!\n"
     ]
    }
   ],
   "source": [
    "print(\"\\'Hello,,,,,,World!\\'.split(',')->{}\".format( 'Hello,,,,,,World!'.split(',')))\n",
    "print(\"\\'Hello World!\\'.replace(\\'World\\',\\'Grasshopper\\')->{}\".format( 'Hello World!'.replace('World','Xauat')))\n"
   ]
  },
  {
   "cell_type": "code",
   "execution_count": 32,
   "id": "abe6443d-af56-4e2a-a656-e41b7e261b67",
   "metadata": {},
   "outputs": [
    {
     "name": "stdout",
     "output_type": "stream",
     "text": [
      "lst_1=[30, 33, 36, 39, 42, 45, 48, 51, 54]\n",
      "____________________________________________________________________________________________________\n",
      "for n in lst_1:\n",
      "30\n",
      "33\n",
      "36\n",
      "39\n",
      "42\n",
      "45\n",
      "48\n",
      "51\n",
      "54\n",
      "for n in range(len(lst_1)):\n",
      "idx=0,val=30\n",
      "idx=1,val=33\n",
      "idx=2,val=36\n",
      "idx=3,val=39\n",
      "idx=4,val=42\n",
      "idx=5,val=45\n",
      "idx=6,val=48\n",
      "idx=7,val=51\n",
      "idx=8,val=54\n",
      "++++++++++++++++++++++++++++++++++++++++++++++++++\n",
      "dic_4={'a': 5, 'b': 8, 'c': 16, 'd': 3}\n",
      "__________________________________________________\n",
      "for l in dic_4:\n",
      "a\n",
      "b\n",
      "c\n",
      "d\n",
      "for l,v in dic_4.items():\n",
      "key=a,val=5\n",
      "key=b,val=8\n",
      "key=c,val=16\n",
      "key=d,val=3\n"
     ]
    }
   ],
   "source": [
    "lst_1=list(range(30,55,3))\n",
    "print(\"lst_1={}\".format(lst_1))\n",
    "print(\"_\"*100)\n",
    "print(\"for n in lst_1:\")\n",
    "for n in lst_1:\n",
    "    print(n)\n",
    "print(\"for n in range(len(lst_1)):\")\n",
    "for n in range(len(lst_1)):\n",
    "    print(\"idx={},val={}\".format(n,lst_1[n]))\n",
    "print(\"+\"*50)   \n",
    "dic_4=dict(a=5,b=8,c=16,d=3)\n",
    "print(\"dic_4={}\".format(dic_4))\n",
    "print(\"_\"*50)\n",
    "print(\"for l in dic_4:\")\n",
    "for l in dic_4:\n",
    "    print(l)\n",
    "print(\"for l,v in dic_4.items():\")\n",
    "for l,v in dic_4.items():\n",
    "    print(\"key={},val={}\".format(l,v))\n"
   ]
  },
  {
   "cell_type": "code",
   "execution_count": 33,
   "id": "0a4eee3c-1415-4aa5-ae83-81b0730da51b",
   "metadata": {},
   "outputs": [
    {
     "name": "stdout",
     "output_type": "stream",
     "text": [
      "x=1\n",
      "x=10\n",
      "x=100\n",
      "x=1000\n",
      "x=10000\n"
     ]
    }
   ],
   "source": [
    "x=1\n",
    "while x<=10000:\n",
    "    print(\"x={}\".format(x))\n",
    "    x*=10    \n"
   ]
  },
  {
   "cell_type": "code",
   "execution_count": 39,
   "id": "019c5272-e687-4750-9f09-fcf62c9b1ae0",
   "metadata": {},
   "outputs": [
    {
     "name": "stdout",
     "output_type": "stream",
     "text": [
      "x=1\n",
      "x=10\n",
      "x=100\n",
      "x=1000\n",
      "sys.maxsize=9223372036854775807\n",
      "i=0\n",
      "i=1\n",
      "i=2\n",
      "i=3\n"
     ]
    }
   ],
   "source": [
    "x=1\n",
    "while x<=10000:\n",
    "    print(\"x={}\".format(x))\n",
    "    x*=10 \n",
    "    if x>=10000:break    \n",
    "    \n",
    "import sys\n",
    "print(\"sys.maxsize={}\".format(sys.maxsize))\n",
    "for i in range(sys.maxsize):\n",
    "    print(\"i={}\".format(i)) \n",
    "    i*=10\n",
    "    if i>=30:break\n"
   ]
  },
  {
   "cell_type": "code",
   "execution_count": 35,
   "id": "293e1a61-58d9-4f6d-a679-8f01feb56bdc",
   "metadata": {},
   "outputs": [
    {
     "name": "stdout",
     "output_type": "stream",
     "text": [
      "Help on class map in module builtins:\n",
      "\n",
      "class map(object)\n",
      " |  map(func, *iterables) --> map object\n",
      " |  \n",
      " |  Make an iterator that computes the function using arguments from\n",
      " |  each of the iterables.  Stops when the shortest iterable is exhausted.\n",
      " |  \n",
      " |  Methods defined here:\n",
      " |  \n",
      " |  __getattribute__(self, name, /)\n",
      " |      Return getattr(self, name).\n",
      " |  \n",
      " |  __iter__(self, /)\n",
      " |      Implement iter(self).\n",
      " |  \n",
      " |  __next__(self, /)\n",
      " |      Implement next(self).\n",
      " |  \n",
      " |  __reduce__(...)\n",
      " |      Return state information for pickling.\n",
      " |  \n",
      " |  ----------------------------------------------------------------------\n",
      " |  Static methods defined here:\n",
      " |  \n",
      " |  __new__(*args, **kwargs) from builtins.type\n",
      " |      Create and return a new object.  See help(type) for accurate signature.\n",
      "\n"
     ]
    }
   ],
   "source": [
    "help(map)"
   ]
  },
  {
   "cell_type": "code",
   "execution_count": 50,
   "id": "237c8340-b0f9-4457-b276-34f74b3c0ad1",
   "metadata": {},
   "outputs": [
    {
     "name": "stdout",
     "output_type": "stream",
     "text": [
      "zip_lst=zip(lst_a,lst_b)-><zip object at 0x000001A9096A3640>\n",
      "dict(zip_lst)->{0: 'point_a', 1: 'point_b', 3: 'point_c', 4: 'point_d'}\n",
      "0 point_a\n",
      "1 point_b\n",
      "3 point_c\n",
      "4 point_d\n",
      "a=(0, 1, 3, 4),b=('point_a', 'point_b', 'point_c', 'point_d')\n"
     ]
    }
   ],
   "source": [
    "lst_a=[0,1,3,4]\n",
    "lst_b=['point_a','point_b','point_c','point_d']\n",
    "zip_lst=zip(lst_a,lst_b) \n",
    "print(\"zip_lst=zip(lst_a,lst_b)->{}\".format(zip_lst))\n",
    "print(\"dict(zip_lst)->{}\".format(dict(zip_lst)))\n",
    "\n",
    "zip_lst=zip(lst_a,lst_b)\n",
    "for a,b in zip_lst:\n",
    "    print(a,b)\n",
    "    \n",
    "zip_lst=zip(lst_a,lst_b)\n",
    "a,b=zip(*zip_lst)\n",
    "print(\"a={},b={}\".format(a,b))\n"
   ]
  },
  {
   "cell_type": "code",
   "execution_count": 53,
   "id": "dbc2caee-3511-4886-8233-fc827ccb31a5",
   "metadata": {},
   "outputs": [
    {
     "name": "stdout",
     "output_type": "stream",
     "text": [
      "dic_4={0: 'point_a', 1: 'point_b', 2: 'point_c', 3: 'point_d'}\n",
      "dict((m,n) for m,n in enumerate(lst_c))->{0: 'point_a', 1: 'point_b', 2: 'point_c', 3: 'point_d'}\n",
      "____________________________________________________________________________________________________\n",
      "0:0,point_a\n",
      "1:1,point_b\n",
      "2:3,point_c\n",
      "3:4,point_d\n"
     ]
    }
   ],
   "source": [
    "lst_c=['point_a','point_b','point_c','point_d']\n",
    "dic_4={}\n",
    "for idx,value in enumerate(lst_c):\n",
    "    dic_4[idx]=value\n",
    "print(\"dic_4={}\".format(dic_4))\n",
    "print(\"dict((m,n) for m,n in enumerate(lst_c))->{}\".format(dict((m,n) for m,n in enumerate(lst_c)))) \n",
    "print(\"_\"*100)\n",
    "for i,(a,b) in enumerate(zip(lst_a,lst_b)):\n",
    "    print('%d:%s,%s'%(i,a,b))\n"
   ]
  },
  {
   "cell_type": "code",
   "execution_count": 56,
   "id": "83ea44b6-6373-4782-b8c4-863502cd4851",
   "metadata": {},
   "outputs": [
    {
     "name": "stdout",
     "output_type": "stream",
     "text": [
      "[x*x for x in range(5,55,7) if x%2==0]->[144, 676, 1600, 2916]\n",
      "[(m,n) for m in range(3)for n in range(2)]->[(0, 0), (0, 1), (1, 0), (1, 1), (2, 0), (2, 1)]\n",
      "[(x,y) for x,y in zip(range(3),range(2))]->[(0, 0), (1, 1)]\n",
      "[[a for a in range(1,10,3)],2,3,[b for b in range(60,100,7)],[[c for c in range(1000,2000,120)],3,9]]->[[1, 4, 7], 2, 3, [50, 57, 64, 71, 78, 85, 92, 99, 106], [[1000, 1120, 1240, 1360, 1480, 1600, 1720, 1840, 1960, 2080, 2200, 2320, 2440, 2560, 2680, 2800, 2920], 4, 8]]\n",
      "flatten_lst(nested_list)->[1, 4, 7, 2, 3, 50, 57, 64, 71, 78, 85, 92, 99, 106, 1000, 1120, 1240, 1360, 1480, 1600, 1720, 1840, 1960, 2080, 2200, 2320, 2440, 2560, 2680, 2800, 2920, 4, 8]\n"
     ]
    }
   ],
   "source": [
    "print(\"[x*x for x in range(5,55,7) if x%2==0]->{}\".format([x*x for x in range(5,55,7) if x%2==0]))\n",
    "print(\"[(m,n) for m in range(3)for n in range(2)]->{}\".format([(m,n) for m in range(3)for n in range(2)]))\n",
    "print(\"[(x,y) for x,y in zip(range(3),range(2))]->{}\".format([(x,y) for x,y in zip(range(3),range(2))]))\n",
    "nested_list=[[a for a in range(1,10,3)],2,3,[b for b in range(50,110,7)],[[c for c in range(1000,3000,120)],4,8]]\n",
    "print(\"[[a for a in range(1,10,3)],2,3,[b for b in range(60,100,7)],[[c for c in range(1000,2000,120)],3,9]]->{}\".format(nested_list)) #嵌套列表推导式\n",
    "\n",
    "flatten_lst=lambda lst: [m for n_lst in lst for m in flatten_lst(n_lst)] if type(lst) is list else [lst] \n",
    "print(\"flatten_lst(nested_list)->{}\".format(flatten_lst(nested_list)))\n"
   ]
  },
  {
   "cell_type": "code",
   "execution_count": 58,
   "id": "353fbc72-64d3-4282-8b70-0bbb5040d194",
   "metadata": {},
   "outputs": [
    {
     "name": "stdout",
     "output_type": "stream",
     "text": [
      "Positive and larger than or equal to 20.\n"
     ]
    }
   ],
   "source": [
    "x=20\n",
    "if x<0:\n",
    "    print('It is negative.')\n",
    "elif x==0:\n",
    "    print('Equal to zero.')\n",
    "elif 0<x<20:\n",
    "    print('Positive but smaller than 20')\n",
    "else:\n",
    "    print('Positive and larger than or equal to 20.')\n"
   ]
  },
  {
   "cell_type": "code",
   "execution_count": 59,
   "id": "2c6e2f0e-8088-4a61-85f9-4be7a065282a",
   "metadata": {},
   "outputs": [
    {
     "name": "stdout",
     "output_type": "stream",
     "text": [
      "m==n->True\n",
      "m is n->True\n",
      "m==i->True\n",
      "m is i->False\n",
      "m is not n->False\n",
      "m is not i->True\n",
      "id_m:1825483285824;id_n:1825483285824;id_i:1825519076928\n",
      "m=[4, 5],n=[4, 5],i=[4, 5, 9] after del m[2]\n"
     ]
    }
   ],
   "source": [
    "m=n=[4,5,9]\n",
    "i=[4,5,9]\n",
    "print(\"m==n->{}\".format(m==n))\n",
    "print(\"m is n->{}\".format(m is n))\n",
    "print(\"m==i->{}\".format(m==i))\n",
    "print(\"m is i->{}\".format(m is i))\n",
    "print(\"m is not n->{}\".format(m is not n))\n",
    "print(\"m is not i->{}\".format(m is not i))\n",
    "print(\"id_m:{};id_n:{};id_i:{}\".format(id(m),id(n),id(i))) \n",
    "\n",
    "del m[2]\n",
    "print(\"m={},n={},i={} after del m[2]\".format(m,n,i))\n"
   ]
  },
  {
   "cell_type": "code",
   "execution_count": 60,
   "id": "3cef3ad2-0b28-43c1-aace-03cee88fc6c1",
   "metadata": {},
   "outputs": [
    {
     "name": "stdout",
     "output_type": "stream",
     "text": [
      "5 in x->True\n",
      "0 in x->False\n",
      "5 not in x->False\n",
      "0 not in x->True\n"
     ]
    }
   ],
   "source": [
    "x=[5,6,8]\n",
    "print(\"5 in x->{}\".format(5 in x))\n",
    "print(\"0 in x->{}\".format(0 in x))\n",
    "print(\"5 not in x->{}\".format(5 not in x))\n",
    "print(\"0 not in x->{}\".format(0 not in x))\n"
   ]
  },
  {
   "cell_type": "code",
   "execution_count": 61,
   "id": "93968e62-c1d9-45ad-aa69-34871d5b00f0",
   "metadata": {},
   "outputs": [
    {
     "name": "stdout",
     "output_type": "stream",
     "text": [
      "m<i<n kidding!!!\n"
     ]
    }
   ],
   "source": [
    "a,b,c=5,10,20\n",
    "if i>m and i<n:\n",
    "    print('m<i<n')\n",
    "else: print('m<i<n kidding!!!')\n"
   ]
  },
  {
   "cell_type": "code",
   "execution_count": 63,
   "id": "1f1dc624-29e8-4a02-8388-e11ecf2a5c8e",
   "metadata": {},
   "outputs": [],
   "source": [
    "def simple_func(m,n):\n",
    "    i=pow(m,5)+n\n",
    "    return i\n"
   ]
  },
  {
   "cell_type": "code",
   "execution_count": 64,
   "id": "1aa6546e-b1b8-48c4-b67c-f5856eea324e",
   "metadata": {},
   "outputs": [
    {
     "name": "stdout",
     "output_type": "stream",
     "text": [
      "simple_func(5,7)->3132\n",
      "simple_func(7,5)->16812\n",
      "simple_func(n=7,m=5)->3132\n"
     ]
    }
   ],
   "source": [
    "print(\"simple_func(5,7)->{}\".format(simple_func(5,7)))\n",
    "print(\"simple_func(7,5)->{}\".format(simple_func(7,5)))\n",
    "print(\"simple_func(n=7,m=5)->{}\".format(simple_func(n=7,m=5)))\n"
   ]
  },
  {
   "cell_type": "code",
   "execution_count": 1,
   "id": "9339f527-56ad-40a6-81ea-656aa83d737e",
   "metadata": {},
   "outputs": [
    {
     "name": "stdout",
     "output_type": "stream",
     "text": [
      "fibonacci(6,9)->[6, 10, 16, 26, 42, 68, 110, 178, 288]\n",
      "fibonacci(7,9)->[6, 10, 16, 26, 42, 68, 110, 178, 288]\n"
     ]
    }
   ],
   "source": [
    "def fibonacci(s,count): #定义fib函数的方法较笨\n",
    "    fib_lst=[0,2]\n",
    "    fib_part=[]\n",
    "    if s==0 or s==2:\n",
    "        fib_part[:]=fib_lst\n",
    "        for i in range(count-2):\n",
    "            fib_part.append(fib_part[-1]+fib_part[-2])\n",
    "    else:\n",
    "        while True:\n",
    "            fib_lst[:]=[fib_lst[1],fib_lst[0]+fib_lst[1]]\n",
    "            #print(fib_lst)\n",
    "            if fib_lst[1]-s>=0:break\n",
    "        fib_part[:]=fib_lst\n",
    "        if abs(fib_lst[0]-s)>=abs(fib_lst[1]-s):\n",
    "            for i in range(count-1):\n",
    "                fib_part.append(fib_part[-1]+fib_part[-2])\n",
    "            fib_part.pop(0)\n",
    "        else:\n",
    "            for i in range(count-2):\n",
    "                fib_part.append(fib_part[-1]+fib_part[-2])\n",
    "    return fib_part\n",
    "\n",
    "print(\"fibonacci(6,9)->{}\".format(fibonacci(6,9)))\n",
    "print(\"fibonacci(7,9)->{}\".format(fibonacci(7,9)))\n"
   ]
  },
  {
   "cell_type": "code",
   "execution_count": 7,
   "id": "9495efa5-9e35-4735-ac99-fd9ff6a8a3b6",
   "metadata": {},
   "outputs": [
    {
     "name": "stdout",
     "output_type": "stream",
     "text": [
      "105\n"
     ]
    }
   ],
   "source": [
    "def factorial(n):\n",
    "    if n==1:\n",
    "        return 1\n",
    "    else:\n",
    "        return n*factorial(n-2)\n",
    "print(factorial(7))\n"
   ]
  },
  {
   "cell_type": "code",
   "execution_count": 8,
   "id": "7800f721-565f-4d85-8a9f-a636ae857f67",
   "metadata": {},
   "outputs": [],
   "source": [
    "class Pig:\n",
    "    eat='Whirring'  \n",
    "    def __init__(self):\n",
    "        self.hungry=True\n",
    "    def eat(self):\n",
    "        if self.hungry:\n",
    "            print('ohhhh...')\n",
    "            self.hungry=False\n",
    "        else:\n",
    "            print('No.Thanks!')\n",
    "\n",
    "class Apodidae(Pig): \n",
    "    def __init__(self):\n",
    "        super(Apodidae,self).__init__()\n",
    "        self.sound='speak!' \n",
    "    def do(self):\n",
    "        print(self.sound)\n"
   ]
  },
  {
   "cell_type": "code",
   "execution_count": 25,
   "id": "2678ec2a-e8dc-4fcc-a2fe-964d83c03ed5",
   "metadata": {},
   "outputs": [],
   "source": [
    "class Fibs():\n",
    "    def __init__(self):\n",
    "        self.a=1\n",
    "        self.b=2\n",
    "    def next(self):  \n",
    "        self.a,self.b=self.b,self.a+self.b\n",
    "        return self.a\n",
    "    def __iter__(self): \n",
    "        return self\n"
   ]
  },
  {
   "cell_type": "code",
   "execution_count": 27,
   "id": "60a30569-6516-4717-9096-e68a17ad70f5",
   "metadata": {},
   "outputs": [
    {
     "name": "stdout",
     "output_type": "stream",
     "text": [
      "fa=[1, 1, 2, 3, 5, 8, 13, 21]\n",
      "fb=[34, 55, 89, 144, 233]\n"
     ]
    }
   ],
   "source": [
    "f=Fibs()\n",
    "fa=[]\n",
    "fb=[]\n",
    "for i in range(8):\n",
    "    fa.append(f.next())\n",
    "print(\"fa={}\".format(fa))\n",
    "for i in range(5):\n",
    "    fb.append(f.next())\n",
    "print(\"fb={}\".format(fb))\n"
   ]
  },
  {
   "cell_type": "code",
   "execution_count": 32,
   "id": "eb714f39-af48-46ed-9aa9-9b45f51bb473",
   "metadata": {},
   "outputs": [
    {
     "name": "stdout",
     "output_type": "stream",
     "text": [
      "lst_e=[[4, 7, 10, 13, 16, 19], [3, 8, 55, [0, 1, 2, 3, 4], 89]]\n",
      "__________________________________________________\n",
      "flatten_lst=[4, 7, 10, 13, 16, 19, 3, 8, 55, 0, 1, 2, 3, 4, 89]\n"
     ]
    }
   ],
   "source": [
    "lst_e=[list(range(4,20,3)),[3,8,55,list(range(5)),89]]\n",
    "print(\"lst_e={}\".format(lst_e))\n",
    "print(\"_\"*50)\n",
    "flatten_lst=[]\n",
    "for v_1 in lst_e:\n",
    "    try:\n",
    "        for v_2 in v_1:\n",
    "            try:\n",
    "                for v_3 in v_2:\n",
    "                    flatten_lst.append(v_3)\n",
    "            except TypeError:\n",
    "                flatten_lst.append(v_2)\n",
    "    except TypeError:\n",
    "        flatten_lst.append(v_1)\n",
    "print(\"flatten_lst={}\".format(flatten_lst))\n"
   ]
  },
  {
   "cell_type": "code",
   "execution_count": 33,
   "id": "73b25e0d-c735-43a3-927d-9e62c67cd8ef",
   "metadata": {},
   "outputs": [],
   "source": [
    "def flatten(lst): \n",
    "    try:         \n",
    "        for n_lst in lst:              \n",
    "            for a in flatten(n_lst):          \n",
    "                yield a\n",
    "                \n",
    "    except TypeError:\n",
    "        yield lst         \n"
   ]
  },
  {
   "cell_type": "code",
   "execution_count": 34,
   "id": "e80ac9e8-7ab1-41e6-be86-9d589daecce2",
   "metadata": {},
   "outputs": [
    {
     "name": "stdout",
     "output_type": "stream",
     "text": [
      "list(flatten(lst_e))->[4, 7, 10, 13, 16, 19, 3, 8, 55, 0, 1, 2, 3, 4, 89]\n"
     ]
    }
   ],
   "source": [
    "print(\"list(flatten(lst_e))->{}\".format(list(flatten(lst_e))))\n"
   ]
  },
  {
   "cell_type": "code",
   "execution_count": 35,
   "id": "339831fe-1ce5-478b-9981-a5b2480a4529",
   "metadata": {},
   "outputs": [],
   "source": [
    "flatten_lst=lambda lst:[m for n_lst in lst for m in flatten_lst(n_lst)] if type(lst) is list else [lst] #lambda 生成器方法\n"
   ]
  },
  {
   "cell_type": "code",
   "execution_count": 36,
   "id": "f59c5e5a-c092-4d5f-8b6f-55bea9775d28",
   "metadata": {},
   "outputs": [],
   "source": [
    "def infinite():\n",
    "    n=2\n",
    "    while True:\n",
    "        yield 'num#'+str(n)\n",
    "        n+=2\n"
   ]
  },
  {
   "cell_type": "code",
   "execution_count": 37,
   "id": "920960db-76cb-4b01-87a5-cd3f26a2f1c1",
   "metadata": {},
   "outputs": [
    {
     "name": "stdout",
     "output_type": "stream",
     "text": [
      "next(n)->num#2\n",
      "next(n)->num#4\n",
      "next(n)->num#6\n",
      "[next(n) for i in range(5)]->['num#8', 'num#10', 'num#12', 'num#14', 'num#16']\n"
     ]
    }
   ],
   "source": [
    "n=infinite()\n",
    "print(\"next(n)->{}\".format(next(n)))\n",
    "print(\"next(n)->{}\".format(next(n)))\n",
    "print(\"next(n)->{}\".format(next(n)))\n",
    "print(\"[next(n) for i in range(5)]->{}\".format([next(n) for i in range(5)]))\n"
   ]
  },
  {
   "cell_type": "markdown",
   "id": "ee8bab29-d283-47b0-9d22-477703943181",
   "metadata": {},
   "source": [
    "### n=4\n",
    "print(\"[[(2*pi*(2*(u/(n-1))-1),2*pi*(2*(v/(n-1))-1)) for u in range(n)] for v in range(n)]->{}\".format([[(2*pi*(2*(u/(n-1))-1),2*pi*(2*(v/(n-1))-1)) for u in range(n)] for v in range(n)]))\n",
    "print(\"_\"*50)\n",
    "print(\"([(2*pi*(2*(u/(n-1))-1),2*pi*(2*(v/(n-1))-1)) for u in range(n)] for v in range(n))->{}\".format(([(2*pi*(2*(u/(n-1))-1),2*pi*(2*(v/(n-1))-1)) for u in range(n)] for v in range(n))))\n",
    "gen=([(2*pi*(2*(u/(n-1))-1),2*pi*(2*(v/(n-1))-1)) for u in range(n)] for v in range(n))\n",
    "print(\"next(gen)->{}\".format(next(gen)))\n",
    "print(\"next(gen)->{}\".format(next(gen)))\n"
   ]
  },
  {
   "cell_type": "code",
   "execution_count": 42,
   "id": "bdd50005-c1a2-4532-bec9-144fbe2f0cd5",
   "metadata": {},
   "outputs": [
    {
     "name": "stdout",
     "output_type": "stream",
     "text": [
      "f_convert_a('3.14')->3.14\n",
      "f_convert_a('string')->string\n",
      "f_convert_a(3,6,7)->(3, 5, 7)\n"
     ]
    }
   ],
   "source": [
    "\n",
    "def f_convert_a(x):\n",
    "    try:\n",
    "        return float(x)\n",
    "    except:\n",
    "        return x\n",
    "print(\"f_convert_a('3.14')->{}\".format(f_convert_a('3.14')))    \n",
    "print(\"f_convert_a('string')->{}\".format(f_convert_a('string')))  \n",
    "print(\"f_convert_a(3,6,7)->{}\".format(f_convert_a((3,5,7))))  \n",
    "\n"
   ]
  },
  {
   "cell_type": "code",
   "execution_count": 48,
   "id": "729622c3-646c-4a16-a6fe-69ffa7ab30e4",
   "metadata": {},
   "outputs": [
    {
     "name": "stdout",
     "output_type": "stream",
     "text": [
      "f_convert_d('3.1415')->3.1415\n",
      "string ValueError or TypeError\n",
      "f_convert_d('string')->None\n",
      "(3, 6, 7) ValueError or TypeError\n",
      "f_convert_d(3,6,7)->None\n"
     ]
    }
   ],
   "source": [
    "\n",
    "def f_convert_d(x):\n",
    "    try:\n",
    "        return float(x)\n",
    "    except (ValueError,TypeError):\n",
    "        print(x,'ValueError or TypeError')\n",
    "print(\"f_convert_d('3.1415')->{}\".format(f_convert_d('3.1415')))    \n",
    "print(\"f_convert_d('string')->{}\".format(f_convert_d('string')))  \n",
    "print(\"f_convert_d(3,6,7)->{}\".format(f_convert_d((3,6,7)))) \n"
   ]
  },
  {
   "cell_type": "code",
   "execution_count": 51,
   "id": "799a0509-5530-471e-93d0-12548aaa3d7a",
   "metadata": {},
   "outputs": [
    {
     "name": "stdout",
     "output_type": "stream",
     "text": [
      "Unable to open ./data/tryException.txt :[Errno 2] No such file or directory: './data/tryException.txt'\n",
      "\n",
      "tryException_content->None\n",
      "Unable to open ./data/tryException_.txt :[Errno 2] No such file or directory: './data/tryException_.txt'\n",
      "\n"
     ]
    }
   ],
   "source": [
    "\n",
    "def f_open_a(fp):\n",
    "    try:\n",
    "        f=open(fp,'r')\n",
    "    except IOError as e:\n",
    "        print('Unable to open',fp,':%s\\n' %e)\n",
    "    else:\n",
    "        data=f.read()\n",
    "        f.close\n",
    "        return data\n",
    "tryException_content=f_open_a(\"./data/tryException.txt\")   \n",
    "print(\"tryException_content->{}\".format(tryException_content))\n",
    "f_open_a(\"./data/tryException_.txt\")\n"
   ]
  },
  {
   "cell_type": "code",
   "execution_count": 53,
   "id": "8e03422d-938f-412c-bd27-4033afa1a070",
   "metadata": {},
   "outputs": [
    {
     "name": "stdout",
     "output_type": "stream",
     "text": [
      "Unable to open ./data/tryException.txt :[Errno 2] No such file or directory: './data/tryException.txt'\n",
      "\n",
      "done!\n"
     ]
    }
   ],
   "source": [
    "def f_open_b(fp):\n",
    "    try:\n",
    "        f=open(fp,'r')\n",
    "    except IOError as e:\n",
    "        print('Unable to open',fp,':%s\\n' %e)\n",
    "    else:\n",
    "        data=f.read()\n",
    "        f.close()\n",
    "        return data\n",
    "    finally:\n",
    "        print('done!')\n",
    "f_open_b(\"./data/tryException.txt\")        \n"
   ]
  },
  {
   "cell_type": "code",
   "execution_count": 54,
   "id": "915bfa83-c263-4423-929c-f9551b73eb22",
   "metadata": {},
   "outputs": [
    {
     "name": "stdout",
     "output_type": "stream",
     "text": [
      "Hello world!\n"
     ]
    }
   ],
   "source": [
    "print('Hello world!') "
   ]
  },
  {
   "cell_type": "code",
   "execution_count": 55,
   "id": "5a719080-0158-4ba1-9a0d-d44dd2028a72",
   "metadata": {},
   "outputs": [
    {
     "name": "stdout",
     "output_type": "stream",
     "text": [
      "Hello world!\n",
      "____________________________________________________________________________________________________\n",
      "建筑学作业多！\n",
      "Everybody should learn how to code a computer, because it teaches you how to think, and allows designers more creative!\n"
     ]
    }
   ],
   "source": [
    "print(\"Hello world!\")\n",
    "print(\"_\"*100)\n",
    "print(\"建筑学作业多！\")\n",
    "print(\"Everybody should learn how to code a computer, because it teaches you how to think, and allows designers more creative!\")\n"
   ]
  },
  {
   "cell_type": "code",
   "execution_count": 56,
   "id": "0d7085e4-6edf-4bb5-9c7f-7f720647d0be",
   "metadata": {},
   "outputs": [
    {
     "name": "stdout",
     "output_type": "stream",
     "text": [
      "加： 6\n",
      "减： 2\n",
      "乘： 9\n",
      "除： 1.0\n",
      "整除： 1\n",
      "余数： 1\n",
      "幂： 27\n"
     ]
    }
   ],
   "source": [
    "print(\"加：\",3+3) \n",
    "print(\"减：\",3-1)\n",
    "print(\"乘：\",3*3)\n",
    "print(\"除：\", 3/3)\n",
    "print(\"整除：\", 3//2)\n",
    "print(\"余数：\", 3%2)\n",
    "print(\"幂：\",3**3)\n"
   ]
  },
  {
   "cell_type": "code",
   "execution_count": 59,
   "id": "821245cf-0635-47b7-af61-a3a7c6a0fa84",
   "metadata": {},
   "outputs": [
    {
     "name": "stdout",
     "output_type": "stream",
     "text": [
      "11\n"
     ]
    }
   ],
   "source": [
    "x=5\n",
    "func=2*x+1\n",
    "\n",
    "print(func)\n"
   ]
  },
  {
   "cell_type": "code",
   "execution_count": 60,
   "id": "d483ac3f-9fb5-4028-9d00-012b2c970e41",
   "metadata": {},
   "outputs": [
    {
     "name": "stdout",
     "output_type": "stream",
     "text": [
      "monadic_equation= 11.0\n",
      "monadic_equation=11.00\n",
      "monadic_equation=11.00\n"
     ]
    }
   ],
   "source": [
    "x=5.0\n",
    "monadic_equation=2*x+1\n",
    "print(\"monadic_equation=\",monadic_equation)\n",
    "print(\"monadic_equation=%.2f\"%monadic_equation) #%字符串格式化方法\n",
    "print(\"monadic_equation={:.2f}\".format(monadic_equation)) #format()字符串格式化方法\n"
   ]
  },
  {
   "cell_type": "code",
   "execution_count": 62,
   "id": "eb2a42f4-15df-43e7-b828-38d2011063e7",
   "metadata": {},
   "outputs": [
    {
     "name": "stdout",
     "output_type": "stream",
     "text": [
      "The longitude of the python coordinate is 108.94, and the latitude is 34.261013.\n"
     ]
    }
   ],
   "source": [
    "city_name=\"python\"\n",
    "coordinate_longitude=108.942292\n",
    "coordiante_latitude=34.261013\n",
    "print(\"The longitude of the python coordinate is {lon:.2f}, and the latitude is {lat}.\".format(lon=coordinate_longitude,lat=coordiante_latitude))\n"
   ]
  },
  {
   "cell_type": "code",
   "execution_count": 63,
   "id": "f9ba1274-a880-4611-b7ec-a179e7bc1157",
   "metadata": {},
   "outputs": [
    {
     "name": "stdout",
     "output_type": "stream",
     "text": [
      "func_2=3\n"
     ]
    }
   ],
   "source": [
    "x,y,b=3,6,7 #unpacking 序列解包。尝试，x,y,*z=0,1,2,3,4,5,6; x,y,*z=0,1; (x,y),(a,b)=(0,1),(2,3)\n",
    "func_2=2*x+3*y+b\n",
    "print(\"func_2={}\".format(x,y,b,func_2))\n"
   ]
  }
 ],
 "metadata": {
  "kernelspec": {
   "display_name": "Python 3",
   "language": "python",
   "name": "python3"
  },
  "language_info": {
   "codemirror_mode": {
    "name": "ipython",
    "version": 3
   },
   "file_extension": ".py",
   "mimetype": "text/x-python",
   "name": "python",
   "nbconvert_exporter": "python",
   "pygments_lexer": "ipython3",
   "version": "3.8.8"
  }
 },
 "nbformat": 4,
 "nbformat_minor": 5
}
